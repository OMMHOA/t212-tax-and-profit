{
 "cells": [
  {
   "cell_type": "code",
   "execution_count": null,
   "metadata": {},
   "outputs": [],
   "source": [
    "input_dir = \"input\""
   ]
  },
  {
   "cell_type": "code",
   "execution_count": null,
   "metadata": {},
   "outputs": [],
   "source": [
    "# add project root to module path if not added already\n",
    "import os\n",
    "import sys\n",
    "module_path = os.path.abspath(os.path.join('..'))\n",
    "if module_path not in sys.path:\n",
    "    sys.path.append(module_path)\n",
    "    print(f\"Path '{module_path}' added to module path.\")\n"
   ]
  },
  {
   "cell_type": "code",
   "execution_count": null,
   "metadata": {},
   "outputs": [],
   "source": [
    "from tools.csv_consolidator import consolidate\n",
    "\n",
    "csv_inputs = consolidate(input_dir)"
   ]
  },
  {
   "cell_type": "code",
   "execution_count": null,
   "metadata": {},
   "outputs": [],
   "source": [
    "import pandas\n",
    "\n",
    "df = pandas.DataFrame.from_records([m.dict() for m in csv_inputs]).drop_duplicates()"
   ]
  },
  {
   "cell_type": "markdown",
   "metadata": {},
   "source": [
    "### Profit calculation"
   ]
  },
  {
   "cell_type": "code",
   "execution_count": null,
   "metadata": {},
   "outputs": [],
   "source": [
    "buy_df = df \\\n",
    "    .query(\"action == 'buy' | action == 'buy limit'\") \\\n",
    "    .assign(invested = lambda x: x.total_eur - x.french_tax - x.conversion_fee_eur - x.stamp_duty_tax_eur) \\\n",
    "    .groupby([\"ticker\", \"name\"]) \\\n",
    "    .agg(invested = (\"invested\", \"sum\"), shares_bought = (\"shares_count\", \"sum\"))\n",
    "\n",
    "# display(buy_df)"
   ]
  },
  {
   "cell_type": "code",
   "execution_count": null,
   "metadata": {},
   "outputs": [],
   "source": [
    "sell_df = df \\\n",
    "    .query(\"action == 'sell' | action == 'sell limit'\") \\\n",
    "    .assign(sell_gain = lambda x: x.total_eur - x.french_tax - x.conversion_fee_eur - x.stamp_duty_tax_eur) \\\n",
    "    .groupby([\"ticker\", \"name\"]) \\\n",
    "    .agg(sell_gain = (\"sell_gain\", \"sum\"), shares_sold = (\"shares_count\", \"sum\"))\n",
    "\n",
    "# display(sell_df)"
   ]
  },
  {
   "cell_type": "code",
   "execution_count": null,
   "metadata": {},
   "outputs": [],
   "source": [
    "import numpy as np\n",
    "\n",
    "def get_shares_remaining(x):\n",
    "    d = x.shares_bought - x.shares_sold\n",
    "    return np.where(abs(d) > 0.1, d, 0)\n",
    "\n",
    "\n",
    "def zero_if_none(column):\n",
    "    return np.where(column != \"NaN\", column, 0)\n",
    "\n",
    "\n",
    "\n",
    "profit_df = buy_df.join(sell_df, on=[\"ticker\", \"name\"], how=\"outer\") \\\n",
    "    .fillna(0) \\\n",
    "    .assign(\n",
    "        profit = lambda x: x.sell_gain - x.invested,\n",
    "        shares_remaining = lambda x: get_shares_remaining(x),\n",
    "    ) \\\n",
    "    .assign(profit_yield = lambda x: x.invested / x.profit) \\\n",
    "    .query(\"shares_remaining == 0 | shares_remaining < shares_bought\")[[\"profit\", \"profit_yield\", \"shares_remaining\"]]\n",
    "\n",
    "\n",
    "display(profit_df)"
   ]
  },
  {
   "cell_type": "code",
   "execution_count": null,
   "metadata": {},
   "outputs": [],
   "source": [
    "total_profit_df = profit_df.agg(all_profits = (\"profit\", \"sum\"))\n",
    "\n",
    "display(total_profit_df)"
   ]
  },
  {
   "cell_type": "markdown",
   "metadata": {},
   "source": [
    "### Dividend calculation"
   ]
  },
  {
   "cell_type": "code",
   "execution_count": null,
   "metadata": {},
   "outputs": [],
   "source": [
    "dividend_df = df \\\n",
    "    .query(\"action == 'dividend'\") \\\n",
    "    .groupby([\"ticker\", \"name\"]) \\\n",
    "    .agg(dividend = (\"total_eur\", \"sum\"), withholding_tax = (\"withholding_tax\", \"sum\"), tax_currency = (\"withholding_tax_currency\", \"first\"))\n",
    "\n",
    "\n",
    "display(dividend_df)"
   ]
  },
  {
   "cell_type": "code",
   "execution_count": null,
   "metadata": {},
   "outputs": [],
   "source": [
    "total_dividend_df = dividend_df.agg(all_dividends = (\"dividend\", \"sum\"))\n",
    "\n",
    "display(total_dividend_df)"
   ]
  },
  {
   "cell_type": "markdown",
   "metadata": {},
   "source": [
    "### Total gains"
   ]
  },
  {
   "cell_type": "code",
   "execution_count": null,
   "metadata": {},
   "outputs": [],
   "source": [
    "profits = total_profit_df.to_dict()['profit']['all_profits']\n",
    "dividends = total_dividend_df.to_dict()['dividend']['all_dividends']\n",
    "\n",
    "print('Total gains: {:.2f}'.format(profits + dividends))"
   ]
  }
 ],
 "metadata": {
  "kernelspec": {
   "display_name": "Python 3 (ipykernel)",
   "language": "python",
   "name": "python3"
  },
  "language_info": {
   "codemirror_mode": {
    "name": "ipython",
    "version": 3
   },
   "file_extension": ".py",
   "mimetype": "text/x-python",
   "name": "python",
   "nbconvert_exporter": "python",
   "pygments_lexer": "ipython3",
   "version": "3.10.6"
  },
  "orig_nbformat": 4,
  "vscode": {
   "interpreter": {
    "hash": "916dbcbb3f70747c44a77c7bcd40155683ae19c65e1c03b4aa3499c5328201f1"
   }
  }
 },
 "nbformat": 4,
 "nbformat_minor": 2
}
