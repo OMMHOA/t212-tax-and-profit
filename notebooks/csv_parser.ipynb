{
 "cells": [
  {
   "cell_type": "code",
   "execution_count": null,
   "metadata": {},
   "outputs": [],
   "source": [
    "input_dir = \"input\""
   ]
  },
  {
   "cell_type": "code",
   "execution_count": null,
   "metadata": {},
   "outputs": [],
   "source": [
    "# add project root to module path if not added already\n",
    "import os\n",
    "import sys\n",
    "module_path = os.path.abspath(os.path.join('..'))\n",
    "if module_path not in sys.path and os.path.basename(module_path) == \"t212-tax-and-profit\":\n",
    "  sys.path.append(module_path)\n",
    "  print(f\"Path '{module_path}' added to module path.\")\n"
   ]
  },
  {
   "cell_type": "code",
   "execution_count": null,
   "metadata": {},
   "outputs": [],
   "source": [
    "from services.csv_consolidator import consolidate\n",
    "\n",
    "events = consolidate(input_dir)"
   ]
  },
  {
   "cell_type": "code",
   "execution_count": null,
   "metadata": {},
   "outputs": [],
   "source": [
    "from services.event_emitter import EventEmitter\n",
    "from services.event_processors import DepositWithdrawalProcessor, DividendProcessor\n",
    "from models.input import Action\n",
    "\n",
    "event_emitter: EventEmitter = EventEmitter()\n",
    "\n",
    "deposit_withdrawal_processor = DepositWithdrawalProcessor()\n",
    "event_emitter.subscribe(deposit_withdrawal_processor, [Action.DEPOSIT, Action.WITHDRAWAL])\n",
    "\n",
    "dividend_processor = DividendProcessor()\n",
    "event_emitter.subscribe(dividend_processor, Action.DIVIDEND)\n",
    "\n",
    "event_emitter.start(events)"
   ]
  },
  {
   "cell_type": "markdown",
   "metadata": {},
   "source": [
    "### Profit calculation"
   ]
  },
  {
   "cell_type": "code",
   "execution_count": null,
   "metadata": {},
   "outputs": [],
   "source": []
  },
  {
   "cell_type": "markdown",
   "metadata": {},
   "source": [
    "### Dividend calculation"
   ]
  },
  {
   "cell_type": "code",
   "execution_count": null,
   "metadata": {},
   "outputs": [],
   "source": [
    "dividends: list[DividendProcessor.Dividend] = dividend_processor.result()\n",
    "total_dividend = sum([d.dividend for d in dividends])\n",
    "total_withholding_tax = sum([d.withholding_tax for d in dividends])\n",
    "print(f\"Total dividends: {total_dividend:.2f}\")\n",
    "print(f\"Total withholding tax: {total_withholding_tax:.2f}\")"
   ]
  },
  {
   "cell_type": "markdown",
   "metadata": {},
   "source": [
    "### Total gains"
   ]
  },
  {
   "cell_type": "code",
   "execution_count": null,
   "metadata": {},
   "outputs": [],
   "source": []
  },
  {
   "cell_type": "markdown",
   "metadata": {},
   "source": [
    "### Total deposits and withdrawals"
   ]
  },
  {
   "cell_type": "code",
   "execution_count": null,
   "metadata": {},
   "outputs": [],
   "source": [
    "deposit_withdrawal_result: DepositWithdrawalProcessor.Result = deposit_withdrawal_processor.result()\n",
    "\n",
    "print(f\"Total deposit: {deposit_withdrawal_result.deposit:.2f}\")\n",
    "print(f\"Total deposit fees: {deposit_withdrawal_result.deposit_fee}\")\n",
    "print(f\"Total withdrawals: {deposit_withdrawal_result.withdrawal:.2f}\")"
   ]
  }
 ],
 "metadata": {
  "kernelspec": {
   "display_name": "Python 3 (ipykernel)",
   "language": "python",
   "name": "python3"
  },
  "orig_nbformat": 4,
  "vscode": {
   "interpreter": {
    "hash": "916dbcbb3f70747c44a77c7bcd40155683ae19c65e1c03b4aa3499c5328201f1"
   }
  }
 },
 "nbformat": 4,
 "nbformat_minor": 2
}
