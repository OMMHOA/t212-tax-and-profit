{
 "cells": [
  {
   "cell_type": "code",
   "execution_count": null,
   "metadata": {},
   "outputs": [],
   "source": [
    "\n",
    "input_dir = \"../input\""
   ]
  },
  {
   "cell_type": "code",
   "execution_count": null,
   "metadata": {},
   "outputs": [],
   "source": [
    "# add project root to module path if not added already\n",
    "import os\n",
    "import sys\n",
    "module_path = os.path.abspath(os.path.join('..'))\n",
    "if module_path not in sys.path:\n",
    "    sys.path.append(module_path)\n",
    "    print(f\"Path '{module_path}' added to module path.\")\n"
   ]
  },
  {
   "cell_type": "code",
   "execution_count": null,
   "metadata": {},
   "outputs": [],
   "source": [
    "from tools.csv_consolidator import consolidate\n",
    "\n",
    "csv_inputs = consolidate(input_dir)"
   ]
  },
  {
   "cell_type": "code",
   "execution_count": null,
   "metadata": {},
   "outputs": [],
   "source": [
    "import pandas\n",
    "\n",
    "df = pandas.DataFrame.from_records([m.dict() for m in csv_inputs]).drop_duplicates()"
   ]
  },
  {
   "cell_type": "code",
   "execution_count": null,
   "metadata": {},
   "outputs": [],
   "source": [
    "# df.columns"
   ]
  },
  {
   "cell_type": "code",
   "execution_count": null,
   "metadata": {},
   "outputs": [],
   "source": [
    "# display(df)"
   ]
  },
  {
   "cell_type": "markdown",
   "metadata": {},
   "source": [
    "### Profit calculation"
   ]
  },
  {
   "cell_type": "code",
   "execution_count": null,
   "metadata": {},
   "outputs": [],
   "source": [
    "bdf = df \\\n",
    "    .query(\"action == 'buy' | action == 'buy limit'\") \\\n",
    "    .assign(invested = lambda x: x.total_eur - x.french_tax - x.conversion_fee_eur - x.stamp_duty_tax_eur) \\\n",
    "    .groupby([\"ticker\", \"name\"]) \\\n",
    "    .agg(invested = (\"invested\", \"sum\"), shares_bought = (\"shares_count\", \"sum\"))\n",
    "\n",
    "# display(bdf)"
   ]
  },
  {
   "cell_type": "code",
   "execution_count": null,
   "metadata": {},
   "outputs": [],
   "source": [
    "sdf = df \\\n",
    "    .query(\"action == 'sell' | action == 'sell limit'\") \\\n",
    "    .assign(sell_gain = lambda x: x.total_eur - x.french_tax - x.conversion_fee_eur - x.stamp_duty_tax_eur) \\\n",
    "    .groupby([\"ticker\", \"name\"]) \\\n",
    "    .agg(sell_gain = (\"sell_gain\", \"sum\"), shares_sold = (\"shares_count\", \"sum\"))\n",
    "\n",
    "# display(sdf)"
   ]
  },
  {
   "cell_type": "code",
   "execution_count": null,
   "metadata": {},
   "outputs": [],
   "source": [
    "import numpy as np\n",
    "\n",
    "def get_shares_remaining(x):\n",
    "    d = x.shares_bought - x.shares_sold\n",
    "    return np.where(abs(d) > 0.1, d, 0)\n",
    "\n",
    "fdf = bdf.join(sdf, on=[\"ticker\", \"name\"], how=\"outer\") \\\n",
    "    .assign(\n",
    "        profit = lambda x: x.sell_gain - x.invested,\n",
    "        shares_remaining = lambda x: get_shares_remaining(x),\n",
    "    ) \\\n",
    "    .assign(profit_yield = lambda x: x.invested / x.profit) \\\n",
    "    .query(\"shares_remaining == 0\")[[\"profit\", \"profit_yield\"]]\n",
    "\n",
    "\n",
    "display(fdf)"
   ]
  },
  {
   "cell_type": "code",
   "execution_count": null,
   "metadata": {},
   "outputs": [],
   "source": [
    "total_fdf = fdf.agg(all_profits = (\"profit\", \"sum\"))\n",
    "\n",
    "display(total_fdf)"
   ]
  },
  {
   "cell_type": "markdown",
   "metadata": {},
   "source": [
    "### Dividend calculation"
   ]
  },
  {
   "cell_type": "code",
   "execution_count": null,
   "metadata": {},
   "outputs": [],
   "source": [
    "ddf = df \\\n",
    "    .query(\"action == 'dividend'\") \\\n",
    "    .groupby([\"ticker\", \"name\"]) \\\n",
    "    .agg(dividend = (\"total_eur\", \"sum\"), withholding_tax = (\"withholding_tax\", \"sum\"), tax_currency = (\"withholding_tax_currency\", \"first\"))\n",
    "\n",
    "\n",
    "display(ddf)"
   ]
  },
  {
   "cell_type": "code",
   "execution_count": null,
   "metadata": {},
   "outputs": [],
   "source": [
    "total_ddf = ddf.agg(all_dividends = (\"dividend\", \"sum\"))\n",
    "\n",
    "display(total_ddf)"
   ]
  },
  {
   "cell_type": "markdown",
   "metadata": {},
   "source": [
    "### Total gains"
   ]
  },
  {
   "cell_type": "code",
   "execution_count": null,
   "metadata": {},
   "outputs": [],
   "source": [
    "profits = total_fdf.to_dict()['profit']['all_profits']\n",
    "dividends = total_ddf.to_dict()['dividend']['all_dividends']\n",
    "\n",
    "profits + dividends"
   ]
  }
 ],
 "metadata": {
  "kernelspec": {
   "display_name": "Python 3 (ipykernel)",
   "language": "python",
   "name": "python3"
  },
  "orig_nbformat": 4,
  "vscode": {
   "interpreter": {
    "hash": "916dbcbb3f70747c44a77c7bcd40155683ae19c65e1c03b4aa3499c5328201f1"
   }
  }
 },
 "nbformat": 4,
 "nbformat_minor": 2
}
