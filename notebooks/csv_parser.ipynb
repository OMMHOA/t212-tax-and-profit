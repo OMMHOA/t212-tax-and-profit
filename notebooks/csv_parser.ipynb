{
 "cells": [
  {
   "cell_type": "code",
   "execution_count": null,
   "metadata": {},
   "outputs": [],
   "source": [
    "input_dir = \"../input\""
   ]
  },
  {
   "cell_type": "code",
   "execution_count": null,
   "metadata": {},
   "outputs": [],
   "source": [
    "# add project root to module path if not added already\n",
    "import os\n",
    "import sys\n",
    "module_path = os.path.abspath(os.path.join('..'))\n",
    "if module_path not in sys.path and os.path.basename(module_path) == \"t212-tax-and-profit\":\n",
    "  sys.path.append(module_path)\n",
    "  print(f\"Path '{module_path}' added to module path.\")\n"
   ]
  },
  {
   "cell_type": "code",
   "execution_count": null,
   "metadata": {},
   "outputs": [],
   "source": [
    "from services.csv_consolidator import consolidate\n",
    "\n",
    "events = consolidate(input_dir)"
   ]
  },
  {
   "cell_type": "code",
   "execution_count": null,
   "metadata": {},
   "outputs": [],
   "source": [
    "from services.event_emitter import EventEmitter\n",
    "from services.event_processors import DepositWithdrawalProcessor, DividendProcessor, ProfitLossProcessor\n",
    "from models.input import Action\n",
    "\n",
    "event_emitter: EventEmitter = EventEmitter()\n",
    "\n",
    "deposit_withdrawal_processor = DepositWithdrawalProcessor()\n",
    "event_emitter.subscribe(deposit_withdrawal_processor, [Action.DEPOSIT, Action.WITHDRAWAL])\n",
    "\n",
    "dividend_processor = DividendProcessor()\n",
    "event_emitter.subscribe(dividend_processor, Action.DIVIDEND)\n",
    "\n",
    "profit_loss_processor = ProfitLossProcessor()\n",
    "event_emitter.subscribe(profit_loss_processor, [Action.BUY, Action.SELL])\n",
    "\n",
    "event_emitter.start(events)"
   ]
  },
  {
   "cell_type": "code",
   "execution_count": null,
   "metadata": {},
   "outputs": [],
   "source": [
    "import plotly.graph_objects as go\n",
    "\n",
    "def print_summary(name: str, f, it):\n",
    "    total = sum([f(x) for x in it])\n",
    "    print(f\"Total {name}: {total:.2f}\")\n",
    "\n",
    "def show_table(headers: list[str], values: list[list]):\n",
    "    fig = go.Figure(data=[go.Table(\n",
    "        header=dict(values=headers, align='left'),\n",
    "        cells=dict(values=values, align='left'))\n",
    "    ])\n",
    "\n",
    "    fig.update_layout(width=900, height=1200)\n",
    "    fig.show()"
   ]
  },
  {
   "cell_type": "markdown",
   "metadata": {},
   "source": [
    "### Profit calculation"
   ]
  },
  {
   "cell_type": "code",
   "execution_count": null,
   "metadata": {},
   "outputs": [],
   "source": [
    "profit_losses: list[ProfitLossProcessor.ProfitLoss] = profit_loss_processor.result()"
   ]
  },
  {
   "cell_type": "code",
   "execution_count": null,
   "metadata": {},
   "outputs": [],
   "source": [
    "print_summary(\"profit/loss\", lambda p: p.profitloss, profit_losses)\n",
    "print_summary(\"shares remaining\", lambda p: p.remaining_shares, profit_losses)\n",
    "print_summary(\"remaining invested amount\", lambda p: p.remaining_invested_amount, profit_losses)"
   ]
  },
  {
   "cell_type": "code",
   "execution_count": null,
   "metadata": {},
   "outputs": [],
   "source": [
    "headers = ['Name', 'Ticker', 'Profit/Loss', 'Remaining shares', 'Remaining invested amount']\n",
    "values = [\n",
    "    [p.stock.name for p in profit_losses],\n",
    "    [p.stock.ticker for p in profit_losses],\n",
    "    [p.profitloss for p in profit_losses],\n",
    "    [p.remaining_shares for p in profit_losses],\n",
    "    [p.remaining_invested_amount for p in profit_losses],\n",
    "]\n",
    "\n",
    "show_table(headers, values)"
   ]
  },
  {
   "cell_type": "markdown",
   "metadata": {},
   "source": [
    "### Dividend calculation"
   ]
  },
  {
   "cell_type": "code",
   "execution_count": null,
   "metadata": {},
   "outputs": [],
   "source": [
    "dividends: list[DividendProcessor.Dividend] = dividend_processor.result()"
   ]
  },
  {
   "cell_type": "code",
   "execution_count": null,
   "metadata": {},
   "outputs": [],
   "source": [
    "print_summary(\"dividends\", lambda d: d.dividend, dividends)\n",
    "print_summary(\"withholding taxes\", lambda d: d.withholding_tax, dividends)"
   ]
  },
  {
   "cell_type": "code",
   "execution_count": null,
   "metadata": {},
   "outputs": [],
   "source": [
    "headers = ['Name', 'Ticker', 'Dividend', 'Tax', 'Tax currency']\n",
    "values = [\n",
    "    [d.stock.name for d in dividends],\n",
    "    [d.stock.ticker for d in dividends],\n",
    "    [d.dividend for d in dividends],\n",
    "    [d.withholding_tax for d in dividends],\n",
    "    [d.withholding_tax_currency for d in dividends],\n",
    "]\n",
    "\n",
    "show_table(headers, values)"
   ]
  },
  {
   "cell_type": "markdown",
   "metadata": {},
   "source": [
    "### Total gains"
   ]
  },
  {
   "cell_type": "code",
   "execution_count": null,
   "metadata": {},
   "outputs": [],
   "source": []
  },
  {
   "cell_type": "markdown",
   "metadata": {},
   "source": [
    "### Total deposits and withdrawals"
   ]
  },
  {
   "cell_type": "code",
   "execution_count": null,
   "metadata": {},
   "outputs": [],
   "source": [
    "deposit_withdrawal_result: DepositWithdrawalProcessor.Result = deposit_withdrawal_processor.result()\n",
    "\n",
    "print(f\"Total deposit: {deposit_withdrawal_result.deposit:.2f}\")\n",
    "print(f\"Total deposit fees: {deposit_withdrawal_result.deposit_fee}\")\n",
    "print(f\"Total withdrawals: {deposit_withdrawal_result.withdrawal:.2f}\")"
   ]
  },
  {
   "cell_type": "code",
   "execution_count": null,
   "metadata": {},
   "outputs": [],
   "source": []
  },
  {
   "cell_type": "code",
   "execution_count": null,
   "metadata": {},
   "outputs": [],
   "source": []
  }
 ],
 "metadata": {
  "kernelspec": {
   "display_name": "Python 3 (ipykernel)",
   "language": "python",
   "name": "python3"
  },
  "language_info": {
   "codemirror_mode": {
    "name": "ipython",
    "version": 3
   },
   "file_extension": ".py",
   "mimetype": "text/x-python",
   "name": "python",
   "nbconvert_exporter": "python",
   "pygments_lexer": "ipython3",
   "version": "3.10.6"
  },
  "vscode": {
   "interpreter": {
    "hash": "996143d73d3001f2e15697fcf8c621b12044b028530064bc0168ba402e6fb4e8"
   }
  }
 },
 "nbformat": 4,
 "nbformat_minor": 2
}
